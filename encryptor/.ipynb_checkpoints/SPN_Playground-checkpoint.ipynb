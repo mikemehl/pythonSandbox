{
 "cells": [
  {
   "cell_type": "markdown",
   "metadata": {},
   "source": [
    "# SPN PLAYGROUND\n",
    "For testing this jimmy jam I'm writing."
   ]
  },
  {
   "cell_type": "code",
   "execution_count": 10,
   "metadata": {},
   "outputs": [],
   "source": [
    "import spn"
   ]
  },
  {
   "cell_type": "code",
   "execution_count": 11,
   "metadata": {},
   "outputs": [
    {
     "name": "stdout",
     "output_type": "stream",
     "text": [
      "b'\\x00\\x01\\x02\\x03\\x04\\x05\\x06\\x07\\x08\\t\\n\\x0b\\x0c\\r\\x0e\\x0f'\n",
      "b'\\x8c\\xac\\x8f`\\xa0\\x8a\\x8ck\\xa2\\x87\\x80\\xa5\\x84ai\\x8e'\n",
      "b'\\x00\\x01\\x02\\x03\\x04\\x05\\x06\\x07\\x08\\t\\n\\x0b\\x0c\\r\\x0e\\x0f'\n",
      "True\n"
     ]
    }
   ],
   "source": [
    "#Test on a single word\n",
    "data = spn.samplebytes[:16]\n",
    "print(data)\n",
    "key = [4,5,6,7]\n",
    "key = [22, 23, 48, 255]*4\n",
    "enc = spn.one_stage_enc(data, key)\n",
    "print(enc)\n",
    "dec = spn.one_stage_dec(enc, key)\n",
    "print(dec)\n",
    "print(dec == data)"
   ]
  },
  {
   "cell_type": "code",
   "execution_count": 4,
   "metadata": {},
   "outputs": [
    {
     "name": "stdout",
     "output_type": "stream",
     "text": [
      "b'\\x00\\x01\\x02\\x03\\x04\\x05\\x06\\x07\\x08\\t\\n\\x0b\\x0c\\r\\x0e\\x0f\\x10\\x11\\x12\\x13\\x14\\x15\\x16\\x17\\x18\\x19\\x1a\\x1b\\x1c\\x1d\\x1e\\x1f !\"#$%&\\'()*+,-./0123456789:;<=>?'\n",
      "64\n",
      "[255, 238, 221, 204, 255, 238, 221, 204, 255, 238, 221, 204, 255, 238, 221, 204]\n"
     ]
    }
   ],
   "source": [
    "#Setup our key and data for testing. Print them out!\n",
    "\n",
    "data = spn.samplebytes\n",
    "key = [0xff, 0xEE, 0xDD, 0xCC]*4\n",
    "print(data)\n",
    "print(len(data))\n",
    "print(key)"
   ]
  },
  {
   "cell_type": "code",
   "execution_count": 5,
   "metadata": {
    "scrolled": false
   },
   "outputs": [
    {
     "name": "stdout",
     "output_type": "stream",
     "text": [
      "b'\\xfe\\x0ew\\xb1=\\x92\\xe9\\xb9\\xfa;\\x0e\\xa1\\xd3\\xfeFd\\xee>g\\xa1\\xbd\\xe2\\xf9\\xa9\\xcak\\x8e\\x91\\xc3N\\xc6\\x94N\\xee\\xe7Q\\r\\x82IY\\x9a\\x8bN\\xc1\\xe3\\xde\\xb6\\xf4\\x9e\\xde\\xc7\\x11\\xedB)\\x19:\\xab.\\x81\\xb3.\\xa6\\xa4'\n"
     ]
    }
   ],
   "source": [
    "#Let's do 10 rounds of encryption.\n",
    "enc = spn.one_round_enc(data, key, 10)\n",
    "print(enc)"
   ]
  },
  {
   "cell_type": "code",
   "execution_count": 6,
   "metadata": {},
   "outputs": [
    {
     "name": "stdout",
     "output_type": "stream",
     "text": [
      "b'\\x00\\x01\\x02\\x03\\x04\\x05\\x06\\x07\\x08\\t\\n\\x0b\\x0c\\r\\x0e\\x0f\\x10\\x11\\x12\\x13\\x14\\x15\\x16\\x17\\x18\\x19\\x1a\\x1b\\x1c\\x1d\\x1e\\x1f !\"#$%&\\'()*+,-./0123456789:;<=>?'\n",
      "True\n"
     ]
    }
   ],
   "source": [
    "#Does decryption work?\n",
    "#Yes.\n",
    "dec = spn.one_round_dec(enc, key, 10)\n",
    "print(dec)\n",
    "print(dec == data)"
   ]
  },
  {
   "cell_type": "code",
   "execution_count": 7,
   "metadata": {},
   "outputs": [
    {
     "name": "stdout",
     "output_type": "stream",
     "text": [
      "ORIGINAL DATA: \n",
      " b'\\x00\\x01\\x02\\x03\\x04\\x05\\x06\\x07\\x08\\t\\n\\x0b\\x0c\\r\\x0e\\x0f\\x10\\x11\\x12\\x13\\x14\\x15\\x16\\x17\\x18\\x19\\x1a\\x1b\\x1c\\x1d\\x1e\\x1f !\"#$%&\\'()*+,-./0123456789:;<=>?'\n",
      "ENCRYPTED DATA: \n",
      " b'[\\x9c\"\\x01\\x02\\xb2^\\x07\\xfaQ\\x1a\\xf9\\xec\\xeb?\\x98\\x99\\xb6v\\x9b\\xcd\\xe8\\xcb\\x95\\xf0\\x95n\\xa50\\x81\\xc4\\xeaX\\x88PQAB\\xd3\\\\\\xd7\\xd58\\x7f\\x82+- \\x9e\\xde\\xc7\\x11\\xedB)\\x19:\\xab.\\x81\\xb3.\\xa6\\xa4'\n",
      "DECRYPTED DATA: \n",
      " b'\\x00\\x01\\x02\\x03\\x04\\x05\\x06\\x07\\x08\\t\\n\\x0b\\x0c\\r\\x0e\\x0f\\x10\\x11\\x12\\x13\\x14\\x15\\x16\\x17\\x18\\x19\\x1a\\x1b\\x1c\\x1d\\x1e\\x1f !\"#$%&\\'()*+,-./0123456789:;<=>?'\n",
      "ARE THEY EQUAL? True\n"
     ]
    }
   ],
   "source": [
    "#Alright, let's try out wrapper that rotates the key.\n",
    "print(\"ORIGINAL DATA: \\n\",data)\n",
    "enc = spn.encrypt(data, key, 10)\n",
    "print(\"ENCRYPTED DATA: \\n\", enc)\n",
    "dec = spn.decrypt(enc, key, 10)\n",
    "print(\"DECRYPTED DATA: \\n\", dec)\n",
    "print(\"ARE THEY EQUAL?\", dec == data)"
   ]
  },
  {
   "cell_type": "code",
   "execution_count": 8,
   "metadata": {},
   "outputs": [
    {
     "name": "stdout",
     "output_type": "stream",
     "text": [
      "Beginning encryption.\n",
      "Beginning decryption.\n",
      "Checking that data matches.\n",
      "Did your encryption work?..... True\n"
     ]
    }
   ],
   "source": [
    "#File test\n",
    "testfile = open('test.dat', 'wb')\n",
    "for i in range(0, 2**14):\n",
    "    testfile.write(spn.samplebytes)\n",
    "testfile.close()\n",
    "print(\"Beginning encryption.\")\n",
    "spn.encrypt_file('test.dat', 'enc.dat', key, 10)\n",
    "print(\"Beginning decryption.\")\n",
    "spn.decrypt_file('enc.dat', 'dec.dat', key, 10)\n",
    "print(\"Checking that data matches.\")\n",
    "original = open('test.dat', 'rb')\n",
    "jumbled = open('dec.dat', 'rb')\n",
    "origbyte = original.read(1)\n",
    "jumbledbyte = jumbled.read(1)\n",
    "same = True\n",
    "while origbyte and jumbledbyte:\n",
    "    if origbyte != jumbledbyte:\n",
    "        same = False\n",
    "    origbyte = original.read(1)\n",
    "    jumbledbyte = jumbled.read(1)\n",
    "print(\"Did your encryption work?.....\", same)\n",
    "original.close()\n",
    "jumbled.close()"
   ]
  },
  {
   "cell_type": "code",
   "execution_count": 9,
   "metadata": {
    "scrolled": false
   },
   "outputs": [
    {
     "name": "stdout",
     "output_type": "stream",
     "text": [
      "Beginning encryption.\n",
      "Beginning decryption.\n",
      "Checking that data matches.\n",
      "Did your encryption work?..... True\n"
     ]
    }
   ],
   "source": [
    "#File test with counter mode\n",
    "testfile = open('test.dat', 'wb')\n",
    "for i in range(0, 2**14):\n",
    "    testfile.write(spn.samplebytes)\n",
    "testfile.close()\n",
    "print(\"Beginning encryption.\")\n",
    "spn.encrypt_file_counter('test.dat', 'enc.dat', key, 10)\n",
    "print(\"Beginning decryption.\")\n",
    "spn.encrypt_file_counter('enc.dat', 'dec.dat', key, 10)\n",
    "print(\"Checking that data matches.\")\n",
    "original = open('test.dat', 'rb')\n",
    "jumbled = open('dec.dat', 'rb')\n",
    "origbyte = original.read(1)\n",
    "jumbledbyte = jumbled.read(1)\n",
    "same = True\n",
    "while origbyte and jumbledbyte:\n",
    "    if origbyte != jumbledbyte:\n",
    "        same = False\n",
    "    origbyte = original.read(1)\n",
    "    jumbledbyte = jumbled.read(1)\n",
    "print(\"Did your encryption work?.....\", same)\n",
    "original.close()\n",
    "jumbled.close()"
   ]
  },
  {
   "cell_type": "code",
   "execution_count": 9,
   "metadata": {
    "scrolled": false
   },
   "outputs": [
    {
     "name": "stdout",
     "output_type": "stream",
     "text": [
      "Beginning encryption.\n",
      "Beginning decryption.\n",
      "Checking that data matches.\n",
      "Did your encryption work?..... True\n"
     ]
    }
   ],
   "source": [
    "#File test with counter mode in place\n",
    "testfile = open('test.dat', 'wb')\n",
    "for i in range(0, 2**14):\n",
    "    testfile.write(spn.samplebytes)\n",
    "testfile.close()\n",
    "print(\"Beginning encryption.\")\n",
    "spn.enc_file_inplace('test.dat', key, 10)\n",
    "print(\"Beginning decryption.\")\n",
    "spn.enc_file_inplace('test.dat', key, 10)\n",
    "print(\"Checking that data matches.\")\n",
    "original = open('test.dat', 'rb')\n",
    "same = True\n",
    "for i in range(0, 2**14):\n",
    "    if original.read(len(spn.samplebytes)) != spn.samplebytes:\n",
    "        same = False\n",
    "print(\"Did your encryption work?.....\", same)\n",
    "original.close()"
   ]
  },
  {
   "cell_type": "code",
   "execution_count": null,
   "metadata": {},
   "outputs": [],
   "source": []
  }
 ],
 "metadata": {
  "kernelspec": {
   "display_name": "Python 3",
   "language": "python",
   "name": "python3"
  },
  "language_info": {
   "codemirror_mode": {
    "name": "ipython",
    "version": 3
   },
   "file_extension": ".py",
   "mimetype": "text/x-python",
   "name": "python",
   "nbconvert_exporter": "python",
   "pygments_lexer": "ipython3",
   "version": "3.6.4"
  }
 },
 "nbformat": 4,
 "nbformat_minor": 2
}
